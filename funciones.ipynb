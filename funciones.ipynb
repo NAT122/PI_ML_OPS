{
 "cells": [
  {
   "cell_type": "code",
   "execution_count": 1,
   "metadata": {},
   "outputs": [],
   "source": [
    "import pandas as pd\n",
    "import numpy as np\n",
    "import json\n",
    "import ast\n",
    "import gzip"
   ]
  },
  {
   "cell_type": "code",
   "execution_count": 17,
   "metadata": {},
   "outputs": [],
   "source": [
    "\n",
    "df_games = pd.read_csv(r'D:\\Users\\Natalia\\Desktop\\csv_limpios\\df_games.csv')"
   ]
  },
  {
   "cell_type": "code",
   "execution_count": 4,
   "metadata": {},
   "outputs": [],
   "source": [
    "df_items = pd.read_csv(r'D:\\Users\\Natalia\\Desktop\\csv_limpios\\df_items.csv')"
   ]
  },
  {
   "cell_type": "code",
   "execution_count": 5,
   "metadata": {},
   "outputs": [],
   "source": [
    "\n",
    "df_review = pd.read_csv(r'D:\\Users\\Natalia\\Desktop\\csv_limpios\\df_reviews.csv')"
   ]
  },
  {
   "cell_type": "code",
   "execution_count": 12,
   "metadata": {},
   "outputs": [],
   "source": [
    "def PlayTimeGenre(genero: str, df_games: pd.DataFrame, df_items: pd.DataFrame):\n",
    "    \"\"\"\"\"\n",
    "    Devuelve año con mas horas jugadas para dicho género.\n",
    "    \"\"\"\n",
    "    \n",
    "    # Verificar si el género está presente como una columna en df_games\n",
    "    if genero not in df_games.columns:\n",
    "        return f\"No se encontró información para el género {genero}\"\n",
    "\n",
    "    # Filtrar el df de juegos para obtener los juegos que pertenecen al género específico\n",
    "    juegos_genero = df_games[df_games[genero] == 1]\n",
    "\n",
    "    if juegos_genero.empty:\n",
    "        return f\"No se encontró información para el género {genero}\"\n",
    "\n",
    "    # Obtener los nombres de los juegos para el género específico\n",
    "    nombres_juegos_genero = juegos_genero['app_name']\n",
    "\n",
    "    # Filtrar el df de horas jugadas para obtener las horas correspondientes a esos nombres de juegos\n",
    "    horas_jugadas_genero = df_items[df_items['item_name'].isin(nombres_juegos_genero)]\n",
    "\n",
    "    # Convertir la columna 'id' a int64 si es posible\n",
    "    df_games['id'] = pd.to_numeric(df_games['id'], errors='coerce')\n",
    "\n",
    "    # Fusionar los df después de convertir las columnas al mismo tipo\n",
    "    horas_jugadas_genero = horas_jugadas_genero.merge(df_games[['id', 'año']], left_on='item_id', right_on='id')\n",
    "\n",
    "    # Encontrar el año con más horas jugadas para el género específico\n",
    "    año_mas_horas = horas_jugadas_genero.groupby('año')['playtime_forever'].sum().idxmax()\n",
    "\n",
    "    return {f\"Año de lanzamiento con más horas jugadas para el género {genero}\": año_mas_horas}"
   ]
  },
  {
   "cell_type": "code",
   "execution_count": 13,
   "metadata": {},
   "outputs": [
    {
     "data": {
      "text/plain": [
       "{'Año de lanzamiento con más horas jugadas para el género Action': 2012.0}"
      ]
     },
     "execution_count": 13,
     "metadata": {},
     "output_type": "execute_result"
    }
   ],
   "source": [
    "PlayTimeGenre('Action', df_games, df_items)"
   ]
  },
  {
   "cell_type": "code",
   "execution_count": 24,
   "metadata": {},
   "outputs": [],
   "source": [
    "def UserForGenre(genero: str, df_games: pd.DataFrame, df_items: pd.DataFrame):\n",
    "    \"\"\"\"\"\n",
    "    Devuelve el usuario que acumula más horas jugadas para el género dado \n",
    "    y una lista de la acumulación de horas jugadas por año.\"\"\"\n",
    "    \n",
    "    # Filtrar juegos por género\n",
    "    juegos_genero = df_games[df_games[genero] == 1]\n",
    "    if juegos_genero.empty:\n",
    "        return f\"No se encontró información para el género {genero}\"\n",
    "\n",
    "    # Obtener nombres de juegos y filtrar horas jugadas por género\n",
    "    nombres_juegos_genero = juegos_genero['app_name']\n",
    "    horas_jugadas_genero = df_items[df_items['item_name'].isin(nombres_juegos_genero)]\n",
    "\n",
    "    # Fusionar df y encontrar usuario con más horas jugadas\n",
    "    merged_data = horas_jugadas_genero.merge(df_games[['id', 'año']], left_on='item_id', right_on='id')\n",
    "    user_mas_horas = merged_data.groupby('user_id')['playtime_forever'].sum().idxmax()\n",
    "\n",
    "    # Calcular horas jugadas por año del usuario\n",
    "    horas_por_año = merged_data[merged_data['user_id'] == user_mas_horas].groupby('año')['playtime_forever'].sum().to_dict()\n",
    "\n",
    "    return user_mas_horas, horas_por_año"
   ]
  },
  {
   "cell_type": "code",
   "execution_count": 26,
   "metadata": {},
   "outputs": [
    {
     "data": {
      "text/plain": [
       "('DeEggMeister',\n",
       " {1994.0: 1.0,\n",
       "  1995.0: 80.0,\n",
       "  1996.0: 0.0,\n",
       "  1997.0: 0.0,\n",
       "  1998.0: 1504.0,\n",
       "  1999.0: 993.0,\n",
       "  2000.0: 7276.0,\n",
       "  2001.0: 295.0,\n",
       "  2002.0: 1388.0,\n",
       "  2003.0: 4364.0,\n",
       "  2004.0: 62077.0,\n",
       "  2005.0: 5118.0,\n",
       "  2006.0: 6855.0,\n",
       "  2007.0: 20012.0,\n",
       "  2008.0: 94711.0,\n",
       "  2009.0: 185133.0,\n",
       "  2010.0: 103453.0,\n",
       "  2011.0: 296094.0,\n",
       "  2012.0: 1113909.0,\n",
       "  2013.0: 434469.0,\n",
       "  2014.0: 130637.0,\n",
       "  2015.0: 202919.0,\n",
       "  2016.0: 89277.0,\n",
       "  2017.0: 87156.0})"
      ]
     },
     "execution_count": 26,
     "metadata": {},
     "output_type": "execute_result"
    }
   ],
   "source": [
    "UserForGenre('Action', df_games, df_items)\n"
   ]
  },
  {
   "cell_type": "code",
   "execution_count": 18,
   "metadata": {},
   "outputs": [],
   "source": [
    "def UsersRecommend(año: int, df_items: pd.DataFrame, df_review: pd.DataFrame):\n",
    "    \"\"\"\"\"\n",
    "    Devuelve el top 3 de juegos MÁS recomendados por usuarios para el año dado\n",
    "    basandose en reviews.recommend = True y comentarios positivos/neutrales\n",
    "    \"\"\"\n",
    "\n",
    "    # Filtrar las reviews para el año dado, recomendadas y con análisis de sentimiento bueno o neutral\n",
    "    filtered_reviews = df_review[(df_review['año_publicado'].notnull()) & \n",
    "                                 (df_review['año_publicado'] == año) & \n",
    "                                 (df_review['recommend'] == True) & \n",
    "                                 (df_review['sentiment_analysis']== 2) | (df_review['sentiment_analysis'] == 1)]\n",
    "                                  \n",
    "\n",
    "    # Obtener los user_ids de las reviews filtradas\n",
    "    user_ids_recomendados = filtered_reviews['user_id']\n",
    "\n",
    "    # Filtrar los items jugados por los usuarios recomendados\n",
    "    items_jugados_recomendados = df_items[df_items['user_id'].isin(user_ids_recomendados)]\n",
    "\n",
    "    # Obtener los nombres de los juegos más jugados por los usuarios recomendados\n",
    "    top_games = items_jugados_recomendados['item_name'].value_counts().head(3)\n",
    "\n",
    "    #Itera sobre top_games sumandole un valor al idice (comienza en 0) para devolver el puesto y el juego\n",
    "    resultado = [{\"Puesto \" + str(i + 1): juego} for i, juego in enumerate(top_games.index)]\n",
    "    return resultado\n"
   ]
  },
  {
   "cell_type": "code",
   "execution_count": 19,
   "metadata": {},
   "outputs": [
    {
     "data": {
      "text/plain": [
       "[{'Puesto 1': 'Dota 2 Test'},\n",
       " {'Puesto 2': 'Counter-Strike: Global Offensive'},\n",
       " {'Puesto 3': \"Garry's Mod\"}]"
      ]
     },
     "execution_count": 19,
     "metadata": {},
     "output_type": "execute_result"
    }
   ],
   "source": [
    "UsersRecommend(2014, df_items, df_review)"
   ]
  },
  {
   "cell_type": "code",
   "execution_count": 27,
   "metadata": {},
   "outputs": [],
   "source": [
    "def UsersNotRecommend(año: int, df_items: pd.DataFrame, df_review: pd.DataFrame):\n",
    "    \"\"\"\"\"\n",
    "    Devuelve el top 3 de juegos MENOS recomendados por usuarios para el año dado.\n",
    "    basandose en reviews.recommend = False y comentarios negativos\n",
    "    \"\"\"\n",
    "    \n",
    "    # Filtrar las reviews para el año dado, no recomendadas y con análisis de sentimiento negativo\n",
    "    filtered_bad_reviews = df_review[(df_review['año_publicado'].notnull()) & \n",
    "                                     (df_review['año_publicado'] == año) & \n",
    "                                     (df_review['recommend'] == False) & \n",
    "                                     (df_review['sentiment_analysis'] == 0)]\n",
    "\n",
    "    # Obtener los user_ids de las reviews filtradas\n",
    "    user_ids_not_recommended = filtered_bad_reviews['user_id']\n",
    "\n",
    "    # Filtrar los items jugados por los usuarios no recomendados\n",
    "    items_jugados_no_recomendados = df_items[df_items['user_id'].isin(user_ids_not_recommended)]\n",
    "\n",
    "    # Obtener los nombres de los juegos menos jugados por los usuarios no recomendados\n",
    "    less_games = items_jugados_no_recomendados['item_name'].value_counts().head(3)\n",
    "\n",
    "    #Itera sobre top_games sumandole un valor al idice (comienza en 0) para devolver el puesto y el juego\n",
    "    resultado = [{\"Puesto \" + str(i + 1): juego} for i, juego in enumerate(less_games.index)]\n",
    "    return resultado\n"
   ]
  },
  {
   "cell_type": "code",
   "execution_count": 28,
   "metadata": {},
   "outputs": [
    {
     "data": {
      "text/plain": [
       "[{'Puesto 1': 'Dota 2 Test'},\n",
       " {'Puesto 2': \"Garry's Mod\"},\n",
       " {'Puesto 3': 'Counter-Strike: Global Offensive'}]"
      ]
     },
     "execution_count": 28,
     "metadata": {},
     "output_type": "execute_result"
    }
   ],
   "source": [
    "UsersNotRecommend(2014, df_items, df_review)"
   ]
  },
  {
   "cell_type": "code",
   "execution_count": 29,
   "metadata": {},
   "outputs": [],
   "source": [
    "def sentiment_analysis(año: int, df_review: pd.DataFrame):\n",
    "    \"\"\"\"\"\n",
    "    Según el año de lanzamiento, se devuelve una lista con la cantidad \n",
    "    de registros de reseñas de usuarios que se encuentren categorizados con un análisis de sentimiento.\n",
    "    2=positivo 1=neutral 0=negativo\n",
    "    \"\"\"\n",
    "\n",
    "    # Filtrar las reviews para el año dado, excluyendo los valores nulos en 'año_publicado'\n",
    "    reviews_year = df_review[(df_review['año_publicado'].notnull()) & (df_review['año_publicado'] == año)]\n",
    "\n",
    "    # Contar la cantidad de registros por cada categoría de sentimiento para el año dado\n",
    "    sentiment_counts = reviews_year['sentiment_analysis'].replace({0: 'Negative', 1: 'Neutral', 2: 'Positive'}).value_counts()\n",
    "\n",
    "    # Crear el diccionario con la cantidad de registros por categoría de sentimiento\n",
    "    resultado = {sentiment: sentiment_counts.get(sentiment, 0) for sentiment in ['Negative', 'Neutral', 'Positive']}\n",
    "    return resultado\n"
   ]
  },
  {
   "cell_type": "code",
   "execution_count": 30,
   "metadata": {},
   "outputs": [
    {
     "data": {
      "text/plain": [
       "{'Negative': 4486, 'Neutral': 4757, 'Positive': 12868}"
      ]
     },
     "execution_count": 30,
     "metadata": {},
     "output_type": "execute_result"
    }
   ],
   "source": [
    "sentiment_analysis(2014, df_review)"
   ]
  }
 ],
 "metadata": {
  "kernelspec": {
   "display_name": "Python 3",
   "language": "python",
   "name": "python3"
  },
  "language_info": {
   "codemirror_mode": {
    "name": "ipython",
    "version": 3
   },
   "file_extension": ".py",
   "mimetype": "text/x-python",
   "name": "python",
   "nbconvert_exporter": "python",
   "pygments_lexer": "ipython3",
   "version": "3.11.5"
  }
 },
 "nbformat": 4,
 "nbformat_minor": 2
}
