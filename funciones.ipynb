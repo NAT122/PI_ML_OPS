{
 "cells": [
  {
   "cell_type": "code",
   "execution_count": 2,
   "metadata": {},
   "outputs": [],
   "source": [
    "import pandas as pd\n",
    "import numpy as np\n",
    "import json\n",
    "import ast\n",
    "import gzip"
   ]
  },
  {
   "cell_type": "code",
   "execution_count": 3,
   "metadata": {},
   "outputs": [],
   "source": [
    "dtypes = {'año': str, 'id':object}\n",
    "df_games = pd.read_csv(r'D:\\Users\\Natalia\\Desktop\\csv_limpios\\df_games.csv', dtype=dtypes)"
   ]
  },
  {
   "cell_type": "code",
   "execution_count": 4,
   "metadata": {},
   "outputs": [],
   "source": [
    "df_items = pd.read_csv(r'D:\\Users\\Natalia\\Desktop\\csv_limpios\\df_items.csv')"
   ]
  },
  {
   "cell_type": "code",
   "execution_count": 5,
   "metadata": {},
   "outputs": [],
   "source": [
    "dtypes = {'año_publicado': str}  # Cambiar 'str' al tipo de dato deseado, por ejemplo 'object'\n",
    "\n",
    "# Cargar el archivo CSV con los tipos de datos especificados\n",
    "df_review = pd.read_csv(r'D:\\Users\\Natalia\\Desktop\\csv_limpios\\df_reviews.csv', dtype=dtypes)"
   ]
  },
  {
   "cell_type": "code",
   "execution_count": 46,
   "metadata": {},
   "outputs": [
    {
     "data": {
      "text/plain": [
       "user_id                   0\n",
       "item_id                   0\n",
       "recommend                 0\n",
       "sentiment_analysis        0\n",
       "año_publicado         10119\n",
       "dtype: int64"
      ]
     },
     "execution_count": 46,
     "metadata": {},
     "output_type": "execute_result"
    }
   ],
   "source": [
    "df_review.isnull().sum()"
   ]
  },
  {
   "cell_type": "code",
   "execution_count": 6,
   "metadata": {},
   "outputs": [],
   "source": [
    "def PlayTimeGenre(genero: str, df_games: pd.DataFrame, df_items: pd.DataFrame):\n",
    "    # Verificar si el género está presente como una columna en df_games\n",
    "    if genero not in df_games.columns:\n",
    "        return f\"No se encontró información para el género {genero}\"\n",
    "\n",
    "    # Filtrar el DataFrame de juegos para obtener los juegos que pertenecen al género específico\n",
    "    juegos_genero = df_games[df_games[genero] == 1]\n",
    "\n",
    "    if juegos_genero.empty:\n",
    "        return f\"No se encontró información para el género {genero}\"\n",
    "\n",
    "    # Obtener los nombres de los juegos para el género específico\n",
    "    nombres_juegos_genero = juegos_genero['app_name']\n",
    "\n",
    "    # Filtrar el DataFrame de horas jugadas para obtener las horas correspondientes a esos nombres de juegos\n",
    "    horas_jugadas_genero = df_items[df_items['item_name'].isin(nombres_juegos_genero)]\n",
    "\n",
    "    # Convertir la columna 'id' a int64 si es posible\n",
    "    df_games['id'] = pd.to_numeric(df_games['id'], errors='coerce')\n",
    "\n",
    "    # Fusionar los DataFrames después de convertir las columnas al mismo tipo\n",
    "    horas_jugadas_genero = horas_jugadas_genero.merge(df_games[['id', 'año']], left_on='item_id', right_on='id')\n",
    "\n",
    "    # Encontrar el año con más horas jugadas para el género específico\n",
    "    año_mas_horas = horas_jugadas_genero.groupby('año')['playtime_forever'].sum().idxmax()\n",
    "\n",
    "    return {f\"Año de lanzamiento con más horas jugadas para el género {genero}\": año_mas_horas}"
   ]
  },
  {
   "cell_type": "code",
   "execution_count": 7,
   "metadata": {},
   "outputs": [
    {
     "name": "stdout",
     "output_type": "stream",
     "text": [
      "{'Año de lanzamiento con más horas jugadas para el género Action': '2012'}\n"
     ]
    }
   ],
   "source": [
    "resultado = PlayTimeGenre('Action', df_games, df_items)\n",
    "print(resultado)"
   ]
  },
  {
   "cell_type": "code",
   "execution_count": 8,
   "metadata": {},
   "outputs": [],
   "source": [
    "def UserForGenre(genero: str, df_games: pd.DataFrame, df_items: pd.DataFrame):\n",
    "    # Filtrar juegos por género\n",
    "    juegos_genero = df_games[df_games[genero] == 1]\n",
    "    if juegos_genero.empty:\n",
    "        return f\"No se encontró información para el género {genero}\"\n",
    "\n",
    "    # Obtener nombres de juegos y filtrar horas jugadas por género\n",
    "    nombres_juegos_genero = juegos_genero['app_name']\n",
    "    horas_jugadas_genero = df_items[df_items['item_name'].isin(nombres_juegos_genero)]\n",
    "\n",
    "    # Fusionar DataFrames y encontrar usuario con más horas jugadas\n",
    "    merged_data = horas_jugadas_genero.merge(df_games[['id', 'año']], left_on='item_id', right_on='id')\n",
    "    user_mas_horas = merged_data.groupby('user_id')['playtime_forever'].sum().idxmax()\n",
    "\n",
    "    # Calcular horas jugadas por año del usuario\n",
    "    horas_por_año = merged_data[merged_data['user_id'] == user_mas_horas].groupby('año')['playtime_forever'].sum().to_dict()\n",
    "\n",
    "    return user_mas_horas, horas_por_año"
   ]
  },
  {
   "cell_type": "code",
   "execution_count": 11,
   "metadata": {},
   "outputs": [
    {
     "name": "stdout",
     "output_type": "stream",
     "text": [
      "('DeEggMeister', {'1994': 1.0, '1995': 80.0, '1996': 0.0, '1997': 0.0, '1998': 1504.0, '1999': 993.0, '2000': 7276.0, '2001': 295.0, '2002': 1388.0, '2003': 4364.0, '2004': 62077.0, '2005': 5118.0, '2006': 6855.0, '2007': 20012.0, '2008': 94711.0, '2009': 185133.0, '2010': 103453.0, '2011': 296094.0, '2012': 1113909.0, '2013': 434469.0, '2014': 130637.0, '2015': 202919.0, '2016': 89277.0, '2017': 87156.0})\n"
     ]
    }
   ],
   "source": [
    "resultado2 = UserForGenre('Action', df_games, df_items)\n",
    "print(resultado2)"
   ]
  },
  {
   "cell_type": "code",
   "execution_count": 23,
   "metadata": {},
   "outputs": [],
   "source": [
    "def UsersRecommend(año: int, df_items: pd.DataFrame, df_review: pd.DataFrame):\n",
    "    # Filtrar las reviews para el año dado, recomendadas y con análisis de sentimiento bueno o neutral\n",
    "    filtered_reviews = df_review[(df_review['año_publicado'] == año) & \n",
    "                                 (df_review['recommend'] == True) & \n",
    "                                 (df_review['sentiment_analysis'].isin([2]))]\n",
    "\n",
    "    # Obtener los user_ids de las reviews filtradas\n",
    "    user_ids_recomendados = filtered_reviews['user_id']\n",
    "\n",
    "    # Filtrar los items jugados por los usuarios recomendados\n",
    "    items_jugados_recomendados = df_items[df_items['user_id'].isin(user_ids_recomendados)]\n",
    "\n",
    "    # Obtener los nombres de los juegos más jugados por los usuarios recomendados\n",
    "    top_games = items_jugados_recomendados['item_name'].value_counts().head(3)\n",
    "\n",
    "    # Crear la estructura de retorno con el top 3 de juegos más jugados por usuarios recomendados\n",
    "    result = [{\"Puesto \" + str(i + 1): juego} for i, juego in enumerate(top_games.index)]\n",
    "    return result\n"
   ]
  },
  {
   "cell_type": "code",
   "execution_count": 30,
   "metadata": {},
   "outputs": [],
   "source": [
    "def UsersRecommend(año: int, df_items: pd.DataFrame, df_review: pd.DataFrame):\n",
    "    # Convertir la columna 'año_publicado' a tipo numérico (si es posible)\n",
    "    df_review['año_publicado'] = pd.to_numeric(df_review['año_publicado'], errors='coerce')\n",
    "\n",
    "    # Filtrar las reviews para el año dado, recomendadas y con análisis de sentimiento bueno o neutral\n",
    "    filtered_reviews = df_review[(df_review['año_publicado'].notnull()) & \n",
    "                                 (df_review['año_publicado'] == año) & \n",
    "                                 (df_review['recommend'] == True) & \n",
    "                                 (df_review['sentiment_analysis']== 2) | (df_review['sentiment_analysis'] == 1)]\n",
    "                                  #.isin([1, 2]))]\n",
    "\n",
    "    # Obtener los user_ids de las reviews filtradas\n",
    "    user_ids_recomendados = filtered_reviews['user_id']\n",
    "\n",
    "    # Filtrar los items jugados por los usuarios recomendados\n",
    "    items_jugados_recomendados = df_items[df_items['user_id'].isin(user_ids_recomendados)]\n",
    "\n",
    "    # Obtener los nombres de los juegos más jugados por los usuarios recomendados\n",
    "    top_games = items_jugados_recomendados['item_name'].value_counts().head(3)\n",
    "\n",
    "    # Crear la estructura de retorno con el top 3 de juegos más jugados por usuarios recomendados\n",
    "    result = [{\"Puesto \" + str(i + 1): juego} for i, juego in enumerate(top_games.index)]\n",
    "    return result\n"
   ]
  },
  {
   "cell_type": "code",
   "execution_count": 31,
   "metadata": {},
   "outputs": [
    {
     "name": "stdout",
     "output_type": "stream",
     "text": [
      "[{'Puesto 1': 'Dota 2 Test'}, {'Puesto 2': 'Counter-Strike: Global Offensive'}, {'Puesto 3': \"Garry's Mod\"}]\n"
     ]
    }
   ],
   "source": [
    "resultado3 = UsersRecommend(2014, df_items, df_review)\n",
    "print(resultado3)"
   ]
  },
  {
   "cell_type": "code",
   "execution_count": 19,
   "metadata": {},
   "outputs": [],
   "source": [
    "#def UsersNotRecommend(año: int, df_items: pd.DataFrame, df_review: pd.DataFrame):\n",
    "    # Convertir la columna 'año_publicado' a tipo numérico (si es posible)\n",
    "    df_review['año_publicado'] = pd.to_numeric(df_review['año_publicado'], errors='coerce')\n",
    "\n",
    "    # Filtrar las reviews para el año dado, recomendadas y con análisis de sentimiento bueno o neutral\n",
    "    filtered_bad_reviews = df_review[(df_review['año_publicado'].notnull()) & \n",
    "                                 (df_review['año_publicado'] == año) & \n",
    "                                 (df_review['recommend'] == False) & \n",
    "                                 (df_review['sentiment_analysis'] == 0)]\n",
    "\n",
    "    # Obtener los user_ids de las reviews filtradas\n",
    "    user_ids_recomendados = filtered_bad_reviews['user_id']\n",
    "\n",
    "    # Filtrar los items jugados por los usuarios recomendados\n",
    "    items_jugados_recomendados = df_items[df_items['user_id'].isin(user_ids_recomendados)]\n",
    "\n",
    "    # Obtener los nombres de los juegos más jugados por los usuarios recomendados\n",
    "    less_games = items_jugados_recomendados['item_name'].value_counts().head(3)\n",
    "\n",
    "    # Crear la estructura de retorno con el top 3 de juegos más jugados por usuarios recomendados\n",
    "    result = [{\"Puesto \" + str(i + 1): juego} for i, juego in enumerate(less_games.index)]\n",
    "    return result\n"
   ]
  },
  {
   "cell_type": "code",
   "execution_count": 22,
   "metadata": {},
   "outputs": [],
   "source": [
    "def UsersNotRecommend(año: int, df_items: pd.DataFrame, df_review: pd.DataFrame):\n",
    "    # Convertir la columna 'año_publicado' a tipo numérico (si es posible)\n",
    "    df_review['año_publicado'] = pd.to_numeric(df_review['año_publicado'], errors='coerce')\n",
    "\n",
    "    # Filtrar las reviews para el año dado, no recomendadas y con análisis de sentimiento negativo\n",
    "    filtered_bad_reviews = df_review[(df_review['año_publicado'].notnull()) & \n",
    "                                     (df_review['año_publicado'] == año) & \n",
    "                                     (df_review['recommend'] == False) & \n",
    "                                     (df_review['sentiment_analysis'] == 0)]\n",
    "\n",
    "    # Obtener los user_ids de las reviews filtradas\n",
    "    user_ids_not_recommended = filtered_bad_reviews['user_id']\n",
    "\n",
    "    # Filtrar los items jugados por los usuarios no recomendados\n",
    "    items_jugados_no_recomendados = df_items[df_items['user_id'].isin(user_ids_not_recommended)]\n",
    "\n",
    "    # Obtener los nombres de los juegos menos jugados por los usuarios no recomendados\n",
    "    less_games = items_jugados_no_recomendados['item_name'].value_counts().head(3)\n",
    "\n",
    "    # Crear la estructura de retorno con el top 3 de juegos menos jugados por usuarios no recomendados\n",
    "    result = [{\"Puesto \" + str(i + 1): juego} for i, juego in enumerate(less_games.index)]\n",
    "    return result\n"
   ]
  },
  {
   "cell_type": "code",
   "execution_count": 23,
   "metadata": {},
   "outputs": [
    {
     "name": "stdout",
     "output_type": "stream",
     "text": [
      "[{'Puesto 1': 'Dota 2 Test'}, {'Puesto 2': \"Garry's Mod\"}, {'Puesto 3': 'Counter-Strike: Global Offensive'}]\n"
     ]
    }
   ],
   "source": [
    "resultado5 = UsersNotRecommend(2014, df_items, df_review)\n",
    "print(resultado5)"
   ]
  },
  {
   "cell_type": "code",
   "execution_count": 47,
   "metadata": {},
   "outputs": [],
   "source": [
    "def sentiment_analysis(año: int, df_review: pd.DataFrame):\n",
    "    # Convertir la columna 'año_publicado' a tipo numérico (si es posible)\n",
    "    df_review['año_publicado'] = pd.to_numeric(df_review['año_publicado'], errors='coerce')\n",
    "\n",
    "    # Filtrar las reviews para el año dado, excluyendo los valores nulos en 'año_publicado'\n",
    "    reviews_year = df_review[(df_review['año_publicado'].notnull()) & (df_review['año_publicado'] == año)]\n",
    "\n",
    "    # Contar la cantidad de registros por cada categoría de sentimiento para el año dado\n",
    "    sentiment_counts = reviews_year['sentiment_analysis'].replace({0: 'Negative', 1: 'Neutral', 2: 'Positive'}).value_counts()\n",
    "\n",
    "    # Crear el diccionario con la cantidad de registros por categoría de sentimiento\n",
    "    result = {sentiment: sentiment_counts.get(sentiment, 0) for sentiment in ['Negative', 'Neutral', 'Positive']}\n",
    "    return result\n"
   ]
  },
  {
   "cell_type": "code",
   "execution_count": 48,
   "metadata": {},
   "outputs": [
    {
     "name": "stdout",
     "output_type": "stream",
     "text": [
      "{'Negative': 4486, 'Neutral': 4757, 'Positive': 12868}\n"
     ]
    }
   ],
   "source": [
    "resultado4 = sentiment_analysis(2014, df_review)\n",
    "print(resultado4)"
   ]
  }
 ],
 "metadata": {
  "kernelspec": {
   "display_name": "Python 3",
   "language": "python",
   "name": "python3"
  },
  "language_info": {
   "codemirror_mode": {
    "name": "ipython",
    "version": 3
   },
   "file_extension": ".py",
   "mimetype": "text/x-python",
   "name": "python",
   "nbconvert_exporter": "python",
   "pygments_lexer": "ipython3",
   "version": "3.11.5"
  }
 },
 "nbformat": 4,
 "nbformat_minor": 2
}
