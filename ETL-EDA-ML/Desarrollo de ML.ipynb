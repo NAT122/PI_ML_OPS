{
 "cells": [
  {
   "cell_type": "markdown",
   "metadata": {},
   "source": [
    "Desarrollo de modelo ML en relación ítem-ítem, utilizando el algoritmo de k-NearestNeighbors. Tomando como elementos para medir la sercania de los juegos los generos de df_games, y si son recomendados o no utilizando la columna 'recomemend' y 'sentiment_analysis' de df_review."
   ]
  },
  {
   "cell_type": "code",
   "execution_count": 2,
   "metadata": {},
   "outputs": [],
   "source": [
    "import pandas as pd\n",
    "import numpy as np"
   ]
  },
  {
   "cell_type": "code",
   "execution_count": 4,
   "metadata": {},
   "outputs": [],
   "source": [
    "from sklearn.neighbors import NearestNeighbors"
   ]
  },
  {
   "cell_type": "code",
   "execution_count": 7,
   "metadata": {},
   "outputs": [],
   "source": [
    "\n",
    "df_review = pd.read_csv('df_reviews.csv')\n",
    "df_games = pd.read_csv('df_games.csv')"
   ]
  },
  {
   "cell_type": "markdown",
   "metadata": {},
   "source": [
    "Para el modelo se van utilizar las colunas de generos, recomendaciones y analisis de sentimiento. Las cuales estan todas el variables numericas. Unimos los df_games y df_review y seleccionamos las columnas a utilizar"
   ]
  },
  {
   "cell_type": "code",
   "execution_count": 8,
   "metadata": {},
   "outputs": [],
   "source": [
    "# uno los df dejando afura la columna de años de publicacion de df_review ya qeu no es necesaria\n",
    "df_merged = pd.merge(df_games, df_review.drop(columns=['año_publicado'], axis=1), on='item_id', how='outer')\n",
    "\n"
   ]
  },
  {
   "cell_type": "code",
   "execution_count": 9,
   "metadata": {},
   "outputs": [],
   "source": [
    "# Selecciono columnas relevantes para el entrenamiento\n",
    "columnas_generos = df_games.columns.difference(['app_name', 'item_id', 'año']).tolist()\n",
    "columnas_recomendado = ['recommend']  \n",
    "columnas_sentimiento = ['sentiment_analysis'] \n",
    "\n"
   ]
  },
  {
   "cell_type": "code",
   "execution_count": 10,
   "metadata": {},
   "outputs": [
    {
     "data": {
      "text/html": [
       "<style>#sk-container-id-1 {color: black;}#sk-container-id-1 pre{padding: 0;}#sk-container-id-1 div.sk-toggleable {background-color: white;}#sk-container-id-1 label.sk-toggleable__label {cursor: pointer;display: block;width: 100%;margin-bottom: 0;padding: 0.3em;box-sizing: border-box;text-align: center;}#sk-container-id-1 label.sk-toggleable__label-arrow:before {content: \"▸\";float: left;margin-right: 0.25em;color: #696969;}#sk-container-id-1 label.sk-toggleable__label-arrow:hover:before {color: black;}#sk-container-id-1 div.sk-estimator:hover label.sk-toggleable__label-arrow:before {color: black;}#sk-container-id-1 div.sk-toggleable__content {max-height: 0;max-width: 0;overflow: hidden;text-align: left;background-color: #f0f8ff;}#sk-container-id-1 div.sk-toggleable__content pre {margin: 0.2em;color: black;border-radius: 0.25em;background-color: #f0f8ff;}#sk-container-id-1 input.sk-toggleable__control:checked~div.sk-toggleable__content {max-height: 200px;max-width: 100%;overflow: auto;}#sk-container-id-1 input.sk-toggleable__control:checked~label.sk-toggleable__label-arrow:before {content: \"▾\";}#sk-container-id-1 div.sk-estimator input.sk-toggleable__control:checked~label.sk-toggleable__label {background-color: #d4ebff;}#sk-container-id-1 div.sk-label input.sk-toggleable__control:checked~label.sk-toggleable__label {background-color: #d4ebff;}#sk-container-id-1 input.sk-hidden--visually {border: 0;clip: rect(1px 1px 1px 1px);clip: rect(1px, 1px, 1px, 1px);height: 1px;margin: -1px;overflow: hidden;padding: 0;position: absolute;width: 1px;}#sk-container-id-1 div.sk-estimator {font-family: monospace;background-color: #f0f8ff;border: 1px dotted black;border-radius: 0.25em;box-sizing: border-box;margin-bottom: 0.5em;}#sk-container-id-1 div.sk-estimator:hover {background-color: #d4ebff;}#sk-container-id-1 div.sk-parallel-item::after {content: \"\";width: 100%;border-bottom: 1px solid gray;flex-grow: 1;}#sk-container-id-1 div.sk-label:hover label.sk-toggleable__label {background-color: #d4ebff;}#sk-container-id-1 div.sk-serial::before {content: \"\";position: absolute;border-left: 1px solid gray;box-sizing: border-box;top: 0;bottom: 0;left: 50%;z-index: 0;}#sk-container-id-1 div.sk-serial {display: flex;flex-direction: column;align-items: center;background-color: white;padding-right: 0.2em;padding-left: 0.2em;position: relative;}#sk-container-id-1 div.sk-item {position: relative;z-index: 1;}#sk-container-id-1 div.sk-parallel {display: flex;align-items: stretch;justify-content: center;background-color: white;position: relative;}#sk-container-id-1 div.sk-item::before, #sk-container-id-1 div.sk-parallel-item::before {content: \"\";position: absolute;border-left: 1px solid gray;box-sizing: border-box;top: 0;bottom: 0;left: 50%;z-index: -1;}#sk-container-id-1 div.sk-parallel-item {display: flex;flex-direction: column;z-index: 1;position: relative;background-color: white;}#sk-container-id-1 div.sk-parallel-item:first-child::after {align-self: flex-end;width: 50%;}#sk-container-id-1 div.sk-parallel-item:last-child::after {align-self: flex-start;width: 50%;}#sk-container-id-1 div.sk-parallel-item:only-child::after {width: 0;}#sk-container-id-1 div.sk-dashed-wrapped {border: 1px dashed gray;margin: 0 0.4em 0.5em 0.4em;box-sizing: border-box;padding-bottom: 0.4em;background-color: white;}#sk-container-id-1 div.sk-label label {font-family: monospace;font-weight: bold;display: inline-block;line-height: 1.2em;}#sk-container-id-1 div.sk-label-container {text-align: center;}#sk-container-id-1 div.sk-container {/* jupyter's `normalize.less` sets `[hidden] { display: none; }` but bootstrap.min.css set `[hidden] { display: none !important; }` so we also need the `!important` here to be able to override the default hidden behavior on the sphinx rendered scikit-learn.org. See: https://github.com/scikit-learn/scikit-learn/issues/21755 */display: inline-block !important;position: relative;}#sk-container-id-1 div.sk-text-repr-fallback {display: none;}</style><div id=\"sk-container-id-1\" class=\"sk-top-container\"><div class=\"sk-text-repr-fallback\"><pre>NearestNeighbors(metric=&#x27;cosine&#x27;)</pre><b>In a Jupyter environment, please rerun this cell to show the HTML representation or trust the notebook. <br />On GitHub, the HTML representation is unable to render, please try loading this page with nbviewer.org.</b></div><div class=\"sk-container\" hidden><div class=\"sk-item\"><div class=\"sk-estimator sk-toggleable\"><input class=\"sk-toggleable__control sk-hidden--visually\" id=\"sk-estimator-id-1\" type=\"checkbox\" checked><label for=\"sk-estimator-id-1\" class=\"sk-toggleable__label sk-toggleable__label-arrow\">NearestNeighbors</label><div class=\"sk-toggleable__content\"><pre>NearestNeighbors(metric=&#x27;cosine&#x27;)</pre></div></div></div></div></div>"
      ],
      "text/plain": [
       "NearestNeighbors(metric='cosine')"
      ]
     },
     "execution_count": 10,
     "metadata": {},
     "output_type": "execute_result"
    }
   ],
   "source": [
    "# combino las columnas y elimino los nulos que se podrian haber formado por las dudas\n",
    "matriz_caracteristicas_combinada = df_merged[columnas_generos + columnas_recomendado + columnas_sentimiento].dropna()\n",
    "\n",
    "# entreno el modelo NearestNeighbors con la matriz combinada\n",
    "nn_model = NearestNeighbors(metric='cosine')\n",
    "nn_model.fit(matriz_caracteristicas_combinada)"
   ]
  },
  {
   "cell_type": "markdown",
   "metadata": {},
   "source": [
    "Finalmente incorporamos el modelo a la funcion de recomendacion"
   ]
  },
  {
   "cell_type": "code",
   "execution_count": 11,
   "metadata": {},
   "outputs": [],
   "source": [
    "\n",
    "\n",
    "def obtener_recomendaciones(id_juego, df_games, df_review, n=5):\n",
    "    # Fusionar los DataFrames en uno solo\n",
    "    df_merged = pd.merge(df_games, df_review.drop(columns=['año_publicado'], axis=1), on='item_id', how='outer')\n",
    "\n",
    "    # Seleccionar columnas relevantes para el entrenamiento\n",
    "    columnas_generos = df_games.columns.difference(['app_name', 'item_id', 'año']).tolist()\n",
    "    columnas_recomendado = ['recommend']  # Suponiendo 'recomendado' es la columna de interés de df_review\n",
    "    columnas_sentimiento = ['sentiment_analysis']  # Suponiendo 'analisis_de_sentimiento' es la columna de interés de df_review\n",
    "\n",
    "    # Obtener matriz de características combinada\n",
    "    matriz_caracteristicas_combinada = df_merged[columnas_generos + columnas_recomendado + columnas_sentimiento].dropna()\n",
    "\n",
    "    # Entrenar el modelo NearestNeighbors con la matriz combinada\n",
    "    nn_model = NearestNeighbors(metric='cosine')\n",
    "    nn_model.fit(matriz_caracteristicas_combinada)\n",
    "\n",
    "    # Buscar los vecinos más cercanos del juego dado\n",
    "    if id_juego not in df_games['item_id'].values:\n",
    "        return \"ID de juego no encontrado en el DataFrame\"\n",
    "\n",
    "    idx = df_games.index[df_games['item_id'] == id_juego][0]\n",
    "    idx = matriz_caracteristicas_combinada.index.get_loc(idx)  # Índice en la matriz de características\n",
    "\n",
    "    # Encontrar los vecinos más cercanos\n",
    "    distances, indices = nn_model.kneighbors([matriz_caracteristicas_combinada.iloc[idx]], n_neighbors=n+1)\n",
    "\n",
    "    # Excluir el juego en sí mismo de las recomendaciones\n",
    "    indices = indices.flatten()[1:]\n",
    "\n",
    "    # Obtener los juegos recomendados\n",
    "    juegos_recomendados = df_games.iloc[indices][['item_id', 'app_name']]\n",
    "    recomendaciones = juegos_recomendados.to_dict(orient='records')\n",
    "\n",
    "    return recomendaciones\n"
   ]
  },
  {
   "cell_type": "code",
   "execution_count": 12,
   "metadata": {},
   "outputs": [
    {
     "name": "stderr",
     "output_type": "stream",
     "text": [
      "c:\\Users\\Usuario\\AppData\\Local\\Programs\\Python\\Python311\\Lib\\site-packages\\sklearn\\base.py:465: UserWarning: X does not have valid feature names, but NearestNeighbors was fitted with feature names\n",
      "  warnings.warn(\n"
     ]
    },
    {
     "data": {
      "text/plain": [
       "[{'item_id': 498550, 'app_name': 'Depths of Dread'},\n",
       " {'item_id': 436664, 'app_name': 'Rocksmith® 2014 – Flyleaf Song Pack'},\n",
       " {'item_id': 525580, 'app_name': 'Spectrum Soundtrack'},\n",
       " {'item_id': 57200, 'app_name': 'Puzzle Dimension'},\n",
       " {'item_id': 265790, 'app_name': 'Residue: Final Cut'}]"
      ]
     },
     "execution_count": 12,
     "metadata": {},
     "output_type": "execute_result"
    }
   ],
   "source": [
    "obtener_recomendaciones(352760, df_games, df_review)"
   ]
  }
 ],
 "metadata": {
  "kernelspec": {
   "display_name": "Python 3",
   "language": "python",
   "name": "python3"
  },
  "language_info": {
   "codemirror_mode": {
    "name": "ipython",
    "version": 3
   },
   "file_extension": ".py",
   "mimetype": "text/x-python",
   "name": "python",
   "nbconvert_exporter": "python",
   "pygments_lexer": "ipython3",
   "version": "3.11.5"
  }
 },
 "nbformat": 4,
 "nbformat_minor": 2
}
