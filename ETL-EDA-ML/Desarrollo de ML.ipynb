{
 "cells": [
  {
   "cell_type": "markdown",
   "metadata": {},
   "source": [
    "Desarrollo de modelo ML en relación ítem-ítem, esto es se toma un item, en base a que tan similar esa ese ítem al resto, se recomiendan similares. utilizando similitud del coseno de sklearn. "
   ]
  },
  {
   "cell_type": "code",
   "execution_count": 2,
   "metadata": {},
   "outputs": [],
   "source": [
    "\n",
    "df_items = pd.read_csv('df_items.csv')\n",
    "df_review = pd.read_csv('df_reviews.csv')\n",
    "df_games = pd.read_csv('df_games.csv')"
   ]
  },
  {
   "cell_type": "markdown",
   "metadata": {},
   "source": [
    "Primero limpio los df eliminando columnas inecesarias y dejando toda la informacion en un df para que pueda ser consumida por el modelo."
   ]
  },
  {
   "cell_type": "code",
   "execution_count": 4,
   "metadata": {},
   "outputs": [],
   "source": [
    "df_mini_item=df_items.drop([\"playtime_forever\",\"item_id\"],axis=1)"
   ]
  },
  {
   "cell_type": "code",
   "execution_count": 6,
   "metadata": {},
   "outputs": [],
   "source": [
    "merged_df = pd.merge(df_review, df_mini_item, on='user_id', how='outer')"
   ]
  },
  {
   "cell_type": "code",
   "execution_count": 8,
   "metadata": {},
   "outputs": [],
   "source": [
    "merged_df.drop(['user_id', 'item_id', 'año_publicado'],axis=1, inplace=True)"
   ]
  },
  {
   "cell_type": "code",
   "execution_count": 10,
   "metadata": {},
   "outputs": [],
   "source": [
    "merged_df = merged_df.rename(columns={'item_name': 'app_name'})\n",
    "\n"
   ]
  },
  {
   "cell_type": "code",
   "execution_count": 12,
   "metadata": {},
   "outputs": [],
   "source": [
    "df_mini_game = df_games.drop([\"año\"], axis=1)"
   ]
  },
  {
   "cell_type": "code",
   "execution_count": 15,
   "metadata": {},
   "outputs": [],
   "source": [
    "columnas_genero = df_mini_game.columns.difference(['app_name'])\n",
    "#identifico las columnas de los generos par pder restarar el tipo de datos ya que se modifica al unir los df\n"
   ]
  },
  {
   "cell_type": "code",
   "execution_count": 38,
   "metadata": {},
   "outputs": [
    {
     "data": {
      "text/html": [
       "<div>\n",
       "<style scoped>\n",
       "    .dataframe tbody tr th:only-of-type {\n",
       "        vertical-align: middle;\n",
       "    }\n",
       "\n",
       "    .dataframe tbody tr th {\n",
       "        vertical-align: top;\n",
       "    }\n",
       "\n",
       "    .dataframe thead th {\n",
       "        text-align: right;\n",
       "    }\n",
       "</style>\n",
       "<table border=\"1\" class=\"dataframe\">\n",
       "  <thead>\n",
       "    <tr style=\"text-align: right;\">\n",
       "      <th></th>\n",
       "      <th>recommend</th>\n",
       "      <th>sentiment_analysis</th>\n",
       "      <th>app_name</th>\n",
       "      <th>id</th>\n",
       "      <th>Accounting</th>\n",
       "      <th>Action</th>\n",
       "      <th>Adventure</th>\n",
       "      <th>Animation &amp;amp; Modeling</th>\n",
       "      <th>Audio Production</th>\n",
       "      <th>Casual</th>\n",
       "      <th>...</th>\n",
       "      <th>Photo Editing</th>\n",
       "      <th>RPG</th>\n",
       "      <th>Racing</th>\n",
       "      <th>Simulation</th>\n",
       "      <th>Software Training</th>\n",
       "      <th>Sports</th>\n",
       "      <th>Strategy</th>\n",
       "      <th>Utilities</th>\n",
       "      <th>Video Production</th>\n",
       "      <th>Web Publishing</th>\n",
       "    </tr>\n",
       "  </thead>\n",
       "  <tbody>\n",
       "    <tr>\n",
       "      <th>0</th>\n",
       "      <td>True</td>\n",
       "      <td>2.0</td>\n",
       "      <td>Counter-Strike</td>\n",
       "      <td>10.0</td>\n",
       "      <td>0.0</td>\n",
       "      <td>1.0</td>\n",
       "      <td>0.0</td>\n",
       "      <td>0.0</td>\n",
       "      <td>0.0</td>\n",
       "      <td>0.0</td>\n",
       "      <td>...</td>\n",
       "      <td>0.0</td>\n",
       "      <td>0.0</td>\n",
       "      <td>0.0</td>\n",
       "      <td>0.0</td>\n",
       "      <td>0.0</td>\n",
       "      <td>0.0</td>\n",
       "      <td>0.0</td>\n",
       "      <td>0.0</td>\n",
       "      <td>0.0</td>\n",
       "      <td>0.0</td>\n",
       "    </tr>\n",
       "    <tr>\n",
       "      <th>1</th>\n",
       "      <td>True</td>\n",
       "      <td>2.0</td>\n",
       "      <td>Counter-Strike</td>\n",
       "      <td>10.0</td>\n",
       "      <td>0.0</td>\n",
       "      <td>1.0</td>\n",
       "      <td>0.0</td>\n",
       "      <td>0.0</td>\n",
       "      <td>0.0</td>\n",
       "      <td>0.0</td>\n",
       "      <td>...</td>\n",
       "      <td>0.0</td>\n",
       "      <td>0.0</td>\n",
       "      <td>0.0</td>\n",
       "      <td>0.0</td>\n",
       "      <td>0.0</td>\n",
       "      <td>0.0</td>\n",
       "      <td>0.0</td>\n",
       "      <td>0.0</td>\n",
       "      <td>0.0</td>\n",
       "      <td>0.0</td>\n",
       "    </tr>\n",
       "    <tr>\n",
       "      <th>2</th>\n",
       "      <td>True</td>\n",
       "      <td>2.0</td>\n",
       "      <td>Counter-Strike</td>\n",
       "      <td>10.0</td>\n",
       "      <td>0.0</td>\n",
       "      <td>1.0</td>\n",
       "      <td>0.0</td>\n",
       "      <td>0.0</td>\n",
       "      <td>0.0</td>\n",
       "      <td>0.0</td>\n",
       "      <td>...</td>\n",
       "      <td>0.0</td>\n",
       "      <td>0.0</td>\n",
       "      <td>0.0</td>\n",
       "      <td>0.0</td>\n",
       "      <td>0.0</td>\n",
       "      <td>0.0</td>\n",
       "      <td>0.0</td>\n",
       "      <td>0.0</td>\n",
       "      <td>0.0</td>\n",
       "      <td>0.0</td>\n",
       "    </tr>\n",
       "    <tr>\n",
       "      <th>3</th>\n",
       "      <td>True</td>\n",
       "      <td>2.0</td>\n",
       "      <td>Counter-Strike</td>\n",
       "      <td>10.0</td>\n",
       "      <td>0.0</td>\n",
       "      <td>1.0</td>\n",
       "      <td>0.0</td>\n",
       "      <td>0.0</td>\n",
       "      <td>0.0</td>\n",
       "      <td>0.0</td>\n",
       "      <td>...</td>\n",
       "      <td>0.0</td>\n",
       "      <td>0.0</td>\n",
       "      <td>0.0</td>\n",
       "      <td>0.0</td>\n",
       "      <td>0.0</td>\n",
       "      <td>0.0</td>\n",
       "      <td>0.0</td>\n",
       "      <td>0.0</td>\n",
       "      <td>0.0</td>\n",
       "      <td>0.0</td>\n",
       "    </tr>\n",
       "    <tr>\n",
       "      <th>4</th>\n",
       "      <td>True</td>\n",
       "      <td>0.0</td>\n",
       "      <td>Counter-Strike</td>\n",
       "      <td>10.0</td>\n",
       "      <td>0.0</td>\n",
       "      <td>1.0</td>\n",
       "      <td>0.0</td>\n",
       "      <td>0.0</td>\n",
       "      <td>0.0</td>\n",
       "      <td>0.0</td>\n",
       "      <td>...</td>\n",
       "      <td>0.0</td>\n",
       "      <td>0.0</td>\n",
       "      <td>0.0</td>\n",
       "      <td>0.0</td>\n",
       "      <td>0.0</td>\n",
       "      <td>0.0</td>\n",
       "      <td>0.0</td>\n",
       "      <td>0.0</td>\n",
       "      <td>0.0</td>\n",
       "      <td>0.0</td>\n",
       "    </tr>\n",
       "  </tbody>\n",
       "</table>\n",
       "<p>5 rows × 26 columns</p>\n",
       "</div>"
      ],
      "text/plain": [
       "  recommend  sentiment_analysis        app_name    id  Accounting  Action  \\\n",
       "0      True                 2.0  Counter-Strike  10.0         0.0     1.0   \n",
       "1      True                 2.0  Counter-Strike  10.0         0.0     1.0   \n",
       "2      True                 2.0  Counter-Strike  10.0         0.0     1.0   \n",
       "3      True                 2.0  Counter-Strike  10.0         0.0     1.0   \n",
       "4      True                 0.0  Counter-Strike  10.0         0.0     1.0   \n",
       "\n",
       "   Adventure  Animation &amp; Modeling  Audio Production  Casual  ...  \\\n",
       "0        0.0                       0.0               0.0     0.0  ...   \n",
       "1        0.0                       0.0               0.0     0.0  ...   \n",
       "2        0.0                       0.0               0.0     0.0  ...   \n",
       "3        0.0                       0.0               0.0     0.0  ...   \n",
       "4        0.0                       0.0               0.0     0.0  ...   \n",
       "\n",
       "   Photo Editing  RPG  Racing  Simulation  Software Training  Sports  \\\n",
       "0            0.0  0.0     0.0         0.0                0.0     0.0   \n",
       "1            0.0  0.0     0.0         0.0                0.0     0.0   \n",
       "2            0.0  0.0     0.0         0.0                0.0     0.0   \n",
       "3            0.0  0.0     0.0         0.0                0.0     0.0   \n",
       "4            0.0  0.0     0.0         0.0                0.0     0.0   \n",
       "\n",
       "   Strategy  Utilities  Video Production  Web Publishing  \n",
       "0       0.0        0.0               0.0             0.0  \n",
       "1       0.0        0.0               0.0             0.0  \n",
       "2       0.0        0.0               0.0             0.0  \n",
       "3       0.0        0.0               0.0             0.0  \n",
       "4       0.0        0.0               0.0             0.0  \n",
       "\n",
       "[5 rows x 26 columns]"
      ]
     },
     "execution_count": 38,
     "metadata": {},
     "output_type": "execute_result"
    }
   ],
   "source": [
    "df_funcion = pd.merge(merged_df, df_mini_game, on='app_name', how='outer')\n",
    "df_funcion.head()"
   ]
  },
  {
   "cell_type": "code",
   "execution_count": 39,
   "metadata": {},
   "outputs": [],
   "source": [
    "df_funcion = df_funcion.drop_duplicates(subset=['app_name'])"
   ]
  },
  {
   "cell_type": "code",
   "execution_count": 46,
   "metadata": {},
   "outputs": [],
   "source": [
    "df_funcion = df_funcion.dropna()"
   ]
  },
  {
   "cell_type": "code",
   "execution_count": 41,
   "metadata": {},
   "outputs": [],
   "source": [
    "df_funcion[columnas_genero] = df_funcion[columnas_genero].fillna(0).astype(int)\n",
    "df_funcion['sentiment_analysis'] = df_funcion['sentiment_analysis'].astype(int)\n",
    "#mantengo el tipo de datos correcto"
   ]
  },
  {
   "cell_type": "code",
   "execution_count": 57,
   "metadata": {},
   "outputs": [],
   "source": [
    "df_funcion = df_funcion.reset_index(drop=True)\n"
   ]
  },
  {
   "cell_type": "code",
   "execution_count": 72,
   "metadata": {},
   "outputs": [
    {
     "name": "stdout",
     "output_type": "stream",
     "text": [
      "<class 'pandas.core.frame.DataFrame'>\n",
      "RangeIndex: 10588 entries, 0 to 10587\n",
      "Data columns (total 26 columns):\n",
      " #   Column                     Non-Null Count  Dtype \n",
      "---  ------                     --------------  ----- \n",
      " 0   recommend                  10588 non-null  object\n",
      " 1   sentiment_analysis         10588 non-null  int32 \n",
      " 2   app_name                   10588 non-null  object\n",
      " 3   id                         10588 non-null  int32 \n",
      " 4   Accounting                 10588 non-null  int32 \n",
      " 5   Action                     10588 non-null  int32 \n",
      " 6   Adventure                  10588 non-null  int32 \n",
      " 7   Animation &amp; Modeling   10588 non-null  int32 \n",
      " 8   Audio Production           10588 non-null  int32 \n",
      " 9   Casual                     10588 non-null  int32 \n",
      " 10  Design &amp; Illustration  10588 non-null  int32 \n",
      " 11  Early Access               10588 non-null  int32 \n",
      " 12  Education                  10588 non-null  int32 \n",
      " 13  Free to Play               10588 non-null  int32 \n",
      " 14  Indie                      10588 non-null  int32 \n",
      " 15  Massively Multiplayer      10588 non-null  int32 \n",
      " 16  Photo Editing              10588 non-null  int32 \n",
      " 17  RPG                        10588 non-null  int32 \n",
      " 18  Racing                     10588 non-null  int32 \n",
      " 19  Simulation                 10588 non-null  int32 \n",
      " 20  Software Training          10588 non-null  int32 \n",
      " 21  Sports                     10588 non-null  int32 \n",
      " 22  Strategy                   10588 non-null  int32 \n",
      " 23  Utilities                  10588 non-null  int32 \n",
      " 24  Video Production           10588 non-null  int32 \n",
      " 25  Web Publishing             10588 non-null  int32 \n",
      "dtypes: int32(24), object(2)\n",
      "memory usage: 1.1+ MB\n"
     ]
    }
   ],
   "source": [
    "df_funcion.info()"
   ]
  },
  {
   "cell_type": "code",
   "execution_count": 82,
   "metadata": {},
   "outputs": [],
   "source": [
    "\n",
    "df_funcion.to_csv(r'D:\\Users\\Natalia\\Desktop\\csv_limpios\\df_recomendaciones.csv', index=False)\n",
    "#finalmente lo guardo en un csv"
   ]
  },
  {
   "cell_type": "markdown",
   "metadata": {},
   "source": [
    "Finalmete con el df limpiio solo conlos datos necesario entrenamos el modelo"
   ]
  },
  {
   "cell_type": "code",
   "execution_count": 2,
   "metadata": {},
   "outputs": [],
   "source": [
    "from sklearn.metrics.pairwise import cosine_similarity\n",
    "import joblib\n"
   ]
  },
  {
   "cell_type": "code",
   "execution_count": 4,
   "metadata": {},
   "outputs": [],
   "source": [
    "# Construir la matriz de características excluyendo las columnas de ID y título que se utilizan en la funcion\n",
    "columnas_caracteristicas = df_funcion.columns.difference(['app_name', 'id']).tolist()\n",
    "matriz_caracteristicas = df_funcion[columnas_caracteristicas]"
   ]
  },
  {
   "cell_type": "code",
   "execution_count": 5,
   "metadata": {},
   "outputs": [],
   "source": [
    "\n",
    "# Calcular la similitud del coseno\n",
    "similarity_matrix = cosine_similarity(matriz_caracteristicas, matriz_caracteristicas)"
   ]
  },
  {
   "cell_type": "markdown",
   "metadata": {},
   "source": [
    "FUNCION"
   ]
  },
  {
   "cell_type": "code",
   "execution_count": 6,
   "metadata": {},
   "outputs": [],
   "source": [
    "def obtener_recomendaciones(id_juego, similarity_matrix, df_funcion, n=5):\n",
    "\n",
    "    if id_juego not in df_funcion['id'].values:\n",
    "        return \"ID de juego no encontrado en el DataFrame\"\n",
    "    # Obtener el índice del juego según el ID\n",
    "    idx = df_funcion.index[df_funcion['id'] == id_juego][0]\n",
    "\n",
    "    # Obtener las puntuaciones de similitud para el juego dado\n",
    "    sim_scores = list(enumerate(similarity_matrix[idx]))\n",
    "\n",
    "    # Ordenar los juegos según la similitud\n",
    "    sim_scores = sorted(sim_scores, key=lambda x: x[1], reverse=True)\n",
    "\n",
    "    # Excluir el juego en sí mismo de las recomendaciones y seleccionar los primeros 5\n",
    "    sim_scores = sim_scores[1:n+1]\n",
    "\n",
    "    # Obtener los índices de los juegos recomendados\n",
    "    juego_indices = [i[0] for i in sim_scores]\n",
    "\n",
    "    # Devolver los títulos y IDs de los juegos recomendados\n",
    "    juegos_recomendados = df_funcion.loc[juego_indices, ['id', 'app_name']]\n",
    "    \n",
    "    # Convertir los juegos recomendados a una lista de diccionarios\n",
    "    recomendaciones = juegos_recomendados.to_dict(orient='records')\n",
    "    \n",
    "    return recomendaciones\n"
   ]
  },
  {
   "cell_type": "code",
   "execution_count": 7,
   "metadata": {},
   "outputs": [
    {
     "data": {
      "text/plain": [
       "[{'id': 207650, 'app_name': 'A Virus Named TOM'},\n",
       " {'id': 102600, 'app_name': 'Orcs Must Die!'},\n",
       " {'id': 214360, 'app_name': 'Tower Wars'},\n",
       " {'id': 201790, 'app_name': 'Orcs Must Die! 2'},\n",
       " {'id': 4920, 'app_name': 'Natural Selection 2'}]"
      ]
     },
     "execution_count": 7,
     "metadata": {},
     "output_type": "execute_result"
    }
   ],
   "source": [
    "obtener_recomendaciones(352760,similarity_matrix, df_funcion)"
   ]
  },
  {
   "cell_type": "code",
   "execution_count": 11,
   "metadata": {},
   "outputs": [
    {
     "data": {
      "text/plain": [
       "['cosine_similarity.pkl']"
      ]
     },
     "execution_count": 11,
     "metadata": {},
     "output_type": "execute_result"
    }
   ],
   "source": [
    "joblib.dump(similarity_matrix, 'cosine_similarity.pkl')\n",
    "#guardamos el modelo para luego incorporarlo a la api"
   ]
  }
 ],
 "metadata": {
  "kernelspec": {
   "display_name": "Python 3",
   "language": "python",
   "name": "python3"
  },
  "language_info": {
   "codemirror_mode": {
    "name": "ipython",
    "version": 3
   },
   "file_extension": ".py",
   "mimetype": "text/x-python",
   "name": "python",
   "nbconvert_exporter": "python",
   "pygments_lexer": "ipython3",
   "version": "3.11.5"
  }
 },
 "nbformat": 4,
 "nbformat_minor": 2
}
